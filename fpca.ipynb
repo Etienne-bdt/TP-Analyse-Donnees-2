{
 "cells": [
  {
   "cell_type": "markdown",
   "id": "ad662bc5",
   "metadata": {},
   "source": [
    "# Objectifs du TP 2 : ACP fonctionnelle\n",
    "\n",
    "- ACP des données \"Canadian weather\" avec les différentes approches vues en cours :\n",
    "    - méthode 1 : directement sur les vecteurs de données\n",
    "    - méthode 2 : en approchant chaque donnée par une B-spline sur une grille commune, puis en faisant une ACP classique\n",
    "    - méthode 3 : en développant une ACP dans une base de fonctions\n",
    "- Même objectifs pour des données \"destructurées\" (i.e. numération des CD4)\n",
    "\n",
    "Pour cela, nous allons principalement utiliser deux packages python: ```skfda``` et ```scipy```."
   ]
  },
  {
   "cell_type": "code",
   "execution_count": null,
   "id": "918af92f",
   "metadata": {},
   "outputs": [],
   "source": [
    "from skfda import datasets\n",
    "import matplotlib.pyplot as plt\n",
    "import numpy as np\n",
    "import random"
   ]
  },
  {
   "cell_type": "markdown",
   "id": "34c31d77",
   "metadata": {},
   "source": [
    "### Chargement des données de températures du Canada"
   ]
  },
  {
   "cell_type": "markdown",
   "id": "999f06de",
   "metadata": {},
   "source": [
    "Nous allons en premier lieu manipuler le jeu de données \"Canadian weather\" issu du package skfda."
   ]
  },
  {
   "cell_type": "code",
   "execution_count": null,
   "id": "e4373bd2",
   "metadata": {},
   "outputs": [],
   "source": [
    "tableau, cat = datasets.fetch_weather(return_X_y=True, as_frame=True)\n",
    "fd = tableau.iloc[:, 0].values\n",
    "fd_temperatures = fd.coordinates[0] \n"
   ]
  },
  {
   "cell_type": "code",
   "execution_count": null,
   "id": "70bbda93",
   "metadata": {},
   "outputs": [],
   "source": [
    "colormap = plt.colormaps['seismic']\n",
    "label_names = cat.values.categories\n",
    "nlabels = len(label_names)\n",
    "label_colors = colormap(np.arange(nlabels) / (nlabels - 1))\n",
    "label_cat = cat.values.codes\n",
    "\n",
    "fd_temperatures.plot(group=label_cat, group_colors=label_colors,group_names=label_names)\n",
    "plt.show()"
   ]
  },
  {
   "cell_type": "markdown",
   "id": "c2ca0c4f",
   "metadata": {},
   "source": [
    "# Important !\n",
    "\n",
    "Afin d'illustrer correctement les différentes méthodes, nous allons utiliser pour chaque fonction seulement 100 points (correspondant à 100 jours) choisis aléatoirement : ce sont nos nouvelles données, qui ne sont pas définies sur la même grille.\n",
    "\n",
    "À noter : il est toujours possible de définir une matrice de données, car chaque courbe de température sera approchée par 100 points exactement (problème lorsque le nombre de point par courbe est différent)."
   ]
  },
  {
   "cell_type": "code",
   "execution_count": null,
   "id": "c0abbacb",
   "metadata": {},
   "outputs": [],
   "source": [
    "n = 35\n",
    "temperatures = np.reshape(fd_temperatures.data_matrix, (n,365))\n",
    "days = np.reshape(fd_temperatures.grid_points, (365))\n",
    "\n",
    "n_support = 100\n",
    "data = np.zeros((n, n_support))\n",
    "t = np.zeros((n,n_support))\n",
    "\n",
    "plt.figure()\n",
    "for i in range(n):\n",
    "    select_pts = random.sample(range(365), n_support)\n",
    "    data[i,:] = temperatures[i, np.sort(select_pts)]\n",
    "    t[i,:] = days[np.sort(select_pts)]\n",
    "    plt.scatter(t[i,:], data[i,:], s = 5)\n",
    "    \n",
    "    "
   ]
  },
  {
   "cell_type": "code",
   "execution_count": null,
   "id": "42e377b4",
   "metadata": {},
   "outputs": [],
   "source": [
    "## On définit également un support \"global\" sur l'année sur lequel plotter nos données\n",
    "t_global = np.linspace(0,365,n_support)"
   ]
  },
  {
   "cell_type": "markdown",
   "id": "47b5caf5",
   "metadata": {},
   "source": [
    "**Exercice + question :**\n",
    "- Sur un même plot, afficher les données brutes (nuage de points), ainsi que les courbes associées sur le support global.\n",
    "- Comment expliquez-vous la différence entre les courbes et les nuages de points?"
   ]
  },
  {
   "cell_type": "code",
   "execution_count": null,
   "id": "152abcd8",
   "metadata": {},
   "outputs": [],
   "source": [
    "..."
   ]
  },
  {
   "cell_type": "markdown",
   "id": "324e3fa8",
   "metadata": {},
   "source": [
    "## 1ère méthode : ACP classique\n",
    "\n",
    "**Exercice:**\n",
    "- effectuer une ACP classique sur les données en considérant chaque \"courbe\" comme un vecteur de taille 100.\n",
    "- tracer les deux premières composantes principales.\n",
    "- tracer les projections des données sur les deux premières composantes principales."
   ]
  },
  {
   "cell_type": "code",
   "execution_count": null,
   "id": "5f30f185",
   "metadata": {},
   "outputs": [],
   "source": [
    "## ACP\n",
    "\n",
    "..."
   ]
  },
  {
   "cell_type": "code",
   "execution_count": null,
   "id": "f81d7e3f",
   "metadata": {},
   "outputs": [],
   "source": [
    "## Plot des deux premières composantes\n",
    "\n",
    "..."
   ]
  },
  {
   "cell_type": "code",
   "execution_count": null,
   "id": "e8371f78",
   "metadata": {},
   "outputs": [],
   "source": [
    "## Plot des projections des données sur les deux premières composantes\n",
    "\n",
    "..."
   ]
  },
  {
   "cell_type": "markdown",
   "id": "5ac64430",
   "metadata": {},
   "source": [
    "## 2ème méthode : ACP classique sur les données lissées\n",
    "\n",
    "**Exercice:**\n",
    "- approcher chacun des vecteurs de données par une B-spline de degré 3\n",
    "- interpoler ces splines sur $t_{\\text{B-spline}} = [0,0.5,1,1.5,\\ldots,364,364.5, 365]$\n",
    "- effectuer une ACP classique sur ces nouveaux vecteurs (de plus grande dimension)\n",
    "- tracer les deux premières composantes principales\n",
    "- tracer les projections des données sur les deux premières composantes principales."
   ]
  },
  {
   "cell_type": "markdown",
   "id": "749019d6",
   "metadata": {},
   "source": [
    "Pour représenter les données dans une base B-spline cubique (de degré 3), utiliser les fonctions ```splrep``` et ```BSpline```du package scipy.interpolate, avec un paramètre de régularisation $s=30$."
   ]
  },
  {
   "cell_type": "code",
   "execution_count": null,
   "id": "e5b80176",
   "metadata": {},
   "outputs": [],
   "source": [
    "## Approximation des vecteurs de données par B-spline de degré 3 et interpolation de ces splines sur t_Bspline\n",
    "\n",
    "..."
   ]
  },
  {
   "cell_type": "code",
   "execution_count": null,
   "id": "838b56f3",
   "metadata": {},
   "outputs": [],
   "source": [
    "## ACP sur \"vecteurs régularisés\"\n",
    "\n",
    "..."
   ]
  },
  {
   "cell_type": "code",
   "execution_count": null,
   "id": "0a1c0603",
   "metadata": {},
   "outputs": [],
   "source": [
    "## Plot des deux premières composantes\n",
    "\n",
    "..."
   ]
  },
  {
   "cell_type": "code",
   "execution_count": null,
   "id": "329af57e",
   "metadata": {},
   "outputs": [],
   "source": [
    "## Plot des projections des données sur les deux premières composantes\n",
    "\n",
    "..."
   ]
  },
  {
   "cell_type": "markdown",
   "id": "62b08c83",
   "metadata": {},
   "source": [
    "**Exercice:** Comparer sur une même figure:\n",
    "- les composantes principales par l'ACP classique (méthode 1), régularisées a posteriori par Bspline (et interpolées sur $t_{\\text{B-spline}}$)\n",
    "- les composantes principales obtenues après approximations par Bspline des vecteurs de données (méthode 2)"
   ]
  },
  {
   "cell_type": "code",
   "execution_count": null,
   "id": "b72bc21a",
   "metadata": {},
   "outputs": [],
   "source": [
    "## Approximation par Bspline des deux premières composantes principales obtenues par l'ACP classique\n",
    "\n",
    "..."
   ]
  },
  {
   "cell_type": "code",
   "execution_count": null,
   "id": "ce3fff9b",
   "metadata": {},
   "outputs": [],
   "source": [
    "## Comparaison des composantes principales lissées par Bspline après ACP et des composantes principales obtenues\n",
    "# en ayant lisser les données avant l'ACP.\n",
    "\n",
    "..."
   ]
  },
  {
   "cell_type": "markdown",
   "id": "e5b16447",
   "metadata": {},
   "source": [
    "# 3ème méthode : ACP sur une base de fonctions en utilisant skfda"
   ]
  },
  {
   "cell_type": "code",
   "execution_count": null,
   "id": "df0918d7",
   "metadata": {},
   "outputs": [],
   "source": [
    "## Utilisation du package skfda pour la définition d'une base de fonction Bspline\n",
    "\n",
    "from skfda.representation.basis import BSplineBasis\n",
    "from skfda.representation.basis import FDataBasis\n",
    "\n",
    "nb_basis = 30\n",
    "basis = BSplineBasis(n_basis = nb_basis, order = 4)"
   ]
  },
  {
   "cell_type": "code",
   "execution_count": null,
   "id": "9f732794",
   "metadata": {},
   "outputs": [],
   "source": [
    "## Expression des données dans une base de fonctions commune\n",
    "\n",
    "basis_coeff = np.zeros((n,nb_basis))\n",
    "for i in range(n):\n",
    "    coef = FDataBasis.from_data(..., ..., ...)\n",
    "    basis_coeff[i,:] = coef.coefficients\n",
    "data_fpca = FDataBasis(..., ...)\n",
    "\n",
    "..."
   ]
  },
  {
   "cell_type": "markdown",
   "id": "f2c49485",
   "metadata": {},
   "source": [
    "**Exercice:** Via la fonction ```FPCA``` du package ```skfda```, récupérer les deux premières composantes principales obtenues par ACP dans la base de fonctions ```Bspline```, et les plotter."
   ]
  },
  {
   "cell_type": "code",
   "execution_count": null,
   "id": "88e2b6d4",
   "metadata": {},
   "outputs": [],
   "source": [
    "..."
   ]
  },
  {
   "cell_type": "markdown",
   "id": "13eda8b0",
   "metadata": {},
   "source": [
    "**Question :** Qu'en déduisez-vous?"
   ]
  },
  {
   "cell_type": "markdown",
   "id": "66d73624",
   "metadata": {},
   "source": [
    "# Application de la méthode 3 (ACP fonctionnelle) sur les données CD4"
   ]
  },
  {
   "cell_type": "markdown",
   "id": "3b5ba2cd",
   "metadata": {},
   "source": [
    "Tiré de l'étude MACS (Multicenter AIDS Cohort Study), l'ensemble de données sur la numération des cellules CD4 recueille le nombre de cellules CD4 par millilitre de sang de $N = 366$ patients. Les cellules CD4 sont un type particulier de globules blancs et sont des composants clés du système immunitaire. Le VIH attaque les cellules CD4 dans le sang du patient. Le nombre de cellules CD4 peut donc être considéré comme une mesure de la progression de la maladie. Pour cet ensemble de données, le nombre de cellules CD4 est mesuré environ deux fois par an et centré sur le moment de la séroconversion, qui est le moment où le VIH devient détectable. Pour chaque individu, le nombre de mesures varie de 1 à 11 sur une période de 18 mois avant et 42 mois après la séroconversion. Les points d'échantillonnage sont différents d'une observation à l'autre."
   ]
  },
  {
   "cell_type": "code",
   "execution_count": null,
   "id": "8b23ab0a",
   "metadata": {},
   "outputs": [],
   "source": [
    "import pandas as pds\n",
    "cd4 = pds.read_csv('cd4.csv', index_col=0)\n",
    "all_argvals = cd4.columns.astype(np.int64)\n",
    "argvals = {idx:np.array(all_argvals[~np.isnan(row)]) for idx, row in enumerate(cd4.values)}\n",
    "values = {idx:row[~np.isnan(row)] for idx, row in enumerate(cd4.values)}\n",
    "nb_patients = len(argvals)"
   ]
  },
  {
   "cell_type": "code",
   "execution_count": null,
   "id": "2c87fc61",
   "metadata": {},
   "outputs": [],
   "source": [
    "## Suppression des patients qui ont un nombre d'observations $\\leq 3$.\n",
    "\n",
    "patients_out = []\n",
    "\n",
    "for i in np.arange(nb_patients):\n",
    "    if len(argvals[i]) < 4:\n",
    "        del argvals[i]\n",
    "        del values[i]\n",
    "        patients_out.append(i)\n",
    "\n",
    "patients = np.arange(nb_patients)\n",
    "patients = np.delete(patients, patients_out)\n",
    "\n",
    "nb_patients = len(patients)"
   ]
  },
  {
   "cell_type": "markdown",
   "id": "573d356c",
   "metadata": {},
   "source": [
    "**Exercice:** Afficher les observations des 20 premiers patients."
   ]
  },
  {
   "cell_type": "code",
   "execution_count": null,
   "id": "4aa3e0ec",
   "metadata": {},
   "outputs": [],
   "source": [
    "..."
   ]
  },
  {
   "cell_type": "markdown",
   "id": "4fddaa3d",
   "metadata": {},
   "source": [
    "**Exercice :** Calculer [min_temps, max_temps], l'intervalle maxixal de points d'échantillonage, tout patient confondu."
   ]
  },
  {
   "cell_type": "code",
   "execution_count": null,
   "id": "b15e46e1",
   "metadata": {},
   "outputs": [],
   "source": [
    "..."
   ]
  },
  {
   "cell_type": "markdown",
   "id": "5d9fd98c",
   "metadata": {},
   "source": [
    "**Exercice :** Approcher les observations par des Bpline, sur l'intervalle maximal des temps d'observations des patients, en interpolant sur ```temps = np.linspace(min_temps, max_temps, 100)```."
   ]
  },
  {
   "cell_type": "code",
   "execution_count": null,
   "id": "c1c96e79",
   "metadata": {},
   "outputs": [],
   "source": [
    "temps = np.linspace(min_temps, max_temps, 100)\n",
    "cd4_lisse = np.zeros((nb_patients,100))\n",
    "\n",
    "for i, pat in enumerate(patients):\n",
    "    nn, c, k = splrep(argvals[pat], values[pat], s = 70)\n",
    "    B = BSpline(nn, c, k)\n",
    "    cd4_lisse[i,:] = B(temps)\n",
    "    \n",
    "plt.plot(temps,cd4_lisse.T)\n",
    "plt.show()"
   ]
  },
  {
   "cell_type": "markdown",
   "id": "86a8622a",
   "metadata": {},
   "source": [
    "**Question :** Que remarquez-vous? Et qu'en déduisez-vous?"
   ]
  },
  {
   "cell_type": "markdown",
   "id": "a73a2c76",
   "metadata": {},
   "source": [
    "**Exercice :** Refaire une approximation par Bspline sans extrapoler en dehors de l'enveloppe convexe du support des fonctions (voir les paramètres de la fonction BSpline)."
   ]
  },
  {
   "cell_type": "code",
   "execution_count": null,
   "id": "795f4c85",
   "metadata": {},
   "outputs": [],
   "source": [
    "for i, pat in enumerate(patients):\n",
    "    nn, c, k = splrep(argvals[pat], values[pat], k = 3, s = 20)\n",
    "    B = BSpline(nn, c, k, extrapolate = False)\n",
    "    cd4_lisse[i,:] = B(temps)\n",
    "plt.plot(temps,cd4_lisse[:10,:].T)\n",
    "\n",
    "for i, pat in enumerate(patients[:10]):\n",
    "    plt.scatter(argvals[pat], values[pat])\n",
    "plt.show()"
   ]
  },
  {
   "cell_type": "markdown",
   "id": "63d94f6e",
   "metadata": {},
   "source": [
    "**Remarque:** Il est primordial que les fonctions aient une base commune afin de pouvoir les comparer!\n",
    "\n",
    "Nous utiliserons une base de Fourier ici."
   ]
  },
  {
   "cell_type": "code",
   "execution_count": null,
   "id": "4657276c",
   "metadata": {},
   "outputs": [],
   "source": [
    "from skfda.representation.basis import FourierBasis\n",
    "from skfda.representation.basis import FDataBasis\n",
    "\n",
    "\n",
    "nb_basis = 3\n",
    "basis = FourierBasis(domain_range = (min_temps, max_temps), n_basis = nb_basis)\n"
   ]
  },
  {
   "cell_type": "markdown",
   "id": "42892af8",
   "metadata": {},
   "source": [
    "**Exercice :** Calculer les coefficients de chaque courbe dans la base de Fourier en utilisant ```FDataBasis.from_data```"
   ]
  },
  {
   "cell_type": "code",
   "execution_count": null,
   "id": "cf8209f4",
   "metadata": {},
   "outputs": [],
   "source": [
    "..."
   ]
  },
  {
   "cell_type": "markdown",
   "id": "29fb2071",
   "metadata": {},
   "source": [
    "**Exercice :** En utilisant la fonction ```FDataBasis``` tracer les courbes dans la base de Fourier, puis tracer les deux premières composantes principales en utilisant la fonction ```FPCA``` de ```skfda.preprocessing.dim_reduction```.\n"
   ]
  },
  {
   "cell_type": "code",
   "execution_count": null,
   "id": "fbc9c068",
   "metadata": {},
   "outputs": [],
   "source": [
    "..."
   ]
  },
  {
   "cell_type": "code",
   "execution_count": null,
   "id": "cd463526",
   "metadata": {},
   "outputs": [],
   "source": [
    "..."
   ]
  },
  {
   "cell_type": "markdown",
   "id": "4fb1ed05",
   "metadata": {},
   "source": [
    "**Exercice :** tracer les projections des données sur les deux premières composantes principales."
   ]
  },
  {
   "cell_type": "code",
   "execution_count": null,
   "id": "9afe2892",
   "metadata": {},
   "outputs": [],
   "source": [
    "...\n",
    "\n"
   ]
  },
  {
   "cell_type": "code",
   "execution_count": null,
   "id": "6f0919a2",
   "metadata": {},
   "outputs": [],
   "source": []
  },
  {
   "cell_type": "code",
   "execution_count": null,
   "id": "a455a982",
   "metadata": {},
   "outputs": [],
   "source": []
  }
 ],
 "metadata": {
  "kernelspec": {
   "display_name": "Python 3 (ipykernel)",
   "language": "python",
   "name": "python3"
  },
  "language_info": {
   "codemirror_mode": {
    "name": "ipython",
    "version": 3
   },
   "file_extension": ".py",
   "mimetype": "text/x-python",
   "name": "python",
   "nbconvert_exporter": "python",
   "pygments_lexer": "ipython3",
   "version": "3.10.9"
  }
 },
 "nbformat": 4,
 "nbformat_minor": 5
}
